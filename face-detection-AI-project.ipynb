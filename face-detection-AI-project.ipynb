{
 "cells": [
  {
   "cell_type": "code",
   "execution_count": 1,
   "id": "889311b1-ef35-465c-b793-9fc29ac98ee3",
   "metadata": {},
   "outputs": [
    {
     "name": "stdout",
     "output_type": "stream",
     "text": [
      "################|| Downloading face-detection-adas-0001 ||################\n",
      "\n",
      "========== Downloading C:\\BrainAI\\Day5_face_detection\\intel\\face-detection-adas-0001\\FP16\\face-detection-adas-0001.xml\n",
      "... 100%, 304 KB, 309 KB/s, 0 seconds passed\n",
      "\n",
      "========== Downloading C:\\BrainAI\\Day5_face_detection\\intel\\face-detection-adas-0001\\FP16\\face-detection-adas-0001.bin\n",
      "... 49%, 1024 KB, 618 KB/s, 1 seconds passed\n",
      "... 99%, 2048 KB, 757 KB/s, 2 seconds passed\n",
      "... 100%, 2056 KB, 756 KB/s, 2 seconds passed\n",
      "\n"
     ]
    }
   ],
   "source": [
    "## 모델다운로드 - 실행되면 intel 폴더가 생기고 그 안에 모델이 다운로드되어있다.\n",
    "## 한번만 실행해준다.\n",
    "! omz_downloader --name face-detection-adas-0001 --precision FP16"
   ]
  },
  {
   "cell_type": "code",
   "execution_count": 2,
   "id": "25353d50-1176-4d36-8357-979e5392d879",
   "metadata": {},
   "outputs": [],
   "source": [
    "import openvino as ov\n",
    "import cv2\n",
    "import numpy as np\n",
    "\n",
    "import matplotlib.pyplot as plt\n",
    "from pathlib import Path"
   ]
  },
  {
   "cell_type": "code",
   "execution_count": 3,
   "id": "5c7a9ebf-fb5f-465a-8176-a0f4ff36e54d",
   "metadata": {},
   "outputs": [
    {
     "data": {
      "text/plain": [
       "['CPU', 'GPU', 'NPU']"
      ]
     },
     "execution_count": 3,
     "metadata": {},
     "output_type": "execute_result"
    }
   ],
   "source": [
    "core = ov.Core()\n",
    "options=core.available_devices\n",
    "\n",
    "options"
   ]
  },
  {
   "cell_type": "markdown",
   "id": "4b3c40cd-7831-405a-8bdd-bf233d5ff60d",
   "metadata": {},
   "source": [
    "## 로드"
   ]
  },
  {
   "cell_type": "code",
   "execution_count": 4,
   "id": "5535e8b1-9ae3-4f1c-98dd-af2bed1cf6ae",
   "metadata": {},
   "outputs": [
    {
     "name": "stdout",
     "output_type": "stream",
     "text": [
      "Input layer shape: [1,3,384,672]\n",
      "Onput layer shape: [1,1,200,7]\n"
     ]
    }
   ],
   "source": [
    "core=ov.Core()\n",
    "\n",
    "model=core.read_model(model=\"models/face-detection-adas-0001.xml\")\n",
    "face_model=core.compile_model(model=model, device_name=\"CPU\")\n",
    "\n",
    "face_input_layer=face_model.input(0)\n",
    "face_output_layer=face_model.output(0)\n",
    "\n",
    "print(\"Input layer shape:\", face_input_layer.shape)\n",
    "print(\"Onput layer shape:\", face_output_layer.shape)"
   ]
  },
  {
   "cell_type": "markdown",
   "id": "29ee07c0-c5b6-4fe1-a20c-3799996305f6",
   "metadata": {},
   "source": [
    "## 추론"
   ]
  },
  {
   "cell_type": "code",
   "execution_count": null,
   "id": "3f6eac29-d3e0-411f-add2-0896ac6d2cea",
   "metadata": {},
   "outputs": [],
   "source": [
    "## 오픈비노 도큐먼트 확인\n",
    "## https://docs.openvino.ai/2024/omz_models_model_face_detection_adas_0001.html"
   ]
  },
  {
   "cell_type": "code",
   "execution_count": 5,
   "id": "cbf69d63-5e38-4af7-af06-9d906e1fb1cf",
   "metadata": {},
   "outputs": [],
   "source": [
    "frame = cv2.imread(\"images/test.jpg\")\n",
    "resized_frame = cv2.resize(src=frame, dsize=(672, 384)) \n",
    "transposed_frame = resized_frame.transpose(2, 0, 1)\n",
    "input_frame = np.expand_dims(transposed_frame, 0)"
   ]
  },
  {
   "cell_type": "code",
   "execution_count": 6,
   "id": "e630e9e7-81ff-4849-961c-ea466974867a",
   "metadata": {},
   "outputs": [],
   "source": [
    "face_output = face_model([input_frame])[face_output_layer]"
   ]
  },
  {
   "cell_type": "markdown",
   "id": "36faf70c-ad88-4862-b07e-90ec704aeba1",
   "metadata": {},
   "source": [
    "## 출력"
   ]
  },
  {
   "cell_type": "code",
   "execution_count": 7,
   "id": "6320ee11-2654-4f3c-a291-ef939fc29a78",
   "metadata": {},
   "outputs": [],
   "source": [
    "def DrawBoundingBoxes(output, image, conf):\n",
    "\n",
    "    canvas = image.copy()\n",
    "    h,w,_ = canvas.shape \n",
    "\n",
    "    predictions = output[0][0]            # 하위 집합 데이터 프레임\n",
    "    confidence = predictions[:,2]         # conf 값 가져오기 [image_id, label, conf, x_min, y_min, x_max, y_max]\n",
    "\n",
    "    top_predictions = predictions[(confidence>conf)]         # 임계값보다 큰 conf 값을 가진 예측만 선택\n",
    "\n",
    "    for detection in top_predictions:\n",
    "        box = detection[3:7] * np.array([w, h, w, h]) # 상자 위치 결정\n",
    "        (xmin, ymin, xmax, ymax) = box.astype(\"int\")  # xmin, ymin, xmax, ymax에 상자 위치 값 지정\n",
    "\n",
    "        cv2.rectangle(canvas, (xmin, ymin), (xmax, ymax), (0, 0, 255), 2)       # 사각형 만들기\n",
    "    \n",
    "   \n",
    "    return canvas"
   ]
  },
  {
   "cell_type": "code",
   "execution_count": 10,
   "id": "bd804d78-724b-48a7-bb32-a58533febb4c",
   "metadata": {},
   "outputs": [],
   "source": [
    "canvas = DrawBoundingBoxes(face_output, frame, conf=0.5)\n",
    "\n",
    "cv2.imshow(\"Canvas\", canvas)\n",
    "\n",
    "cv2.waitKey(0)\n",
    "cv2.destroyAllWindows()"
   ]
  },
  {
   "cell_type": "markdown",
   "id": "d5b5f30f-eb57-461f-8651-721b40daa918",
   "metadata": {},
   "source": [
    "## 백그라운드 이미지 또는 영상 출력을 위한 함수"
   ]
  },
  {
   "cell_type": "code",
   "execution_count": 16,
   "id": "35e3fc45-63c2-418b-aae6-7a3a88d5ccb2",
   "metadata": {},
   "outputs": [],
   "source": [
    "def AddBackground(frame, bg):\n",
    "\n",
    "    frame_h, frame_w = frame.shape[0], frame.shape[1]\n",
    "    new_h = 500\n",
    "    new_w = int((new_h/frame_h)*frame_w)\n",
    "    frame_resize = cv2.resize(frame, (new_w, new_h))\n",
    "\n",
    "    xmax = bg.shape[1] - 350  # x좌표위치를 설정함.\n",
    "    ymax = bg.shape[0] - 175  # y좌표위치를 설정함.\n",
    "    xmin = xmax - new_w\n",
    "    ymin = ymax - new_h\n",
    "\n",
    "    bg[ymin:ymax, xmin:xmax] = frame_resize\n",
    "\n",
    "    return bg"
   ]
  },
  {
   "cell_type": "markdown",
   "id": "1471fed2-3a6a-4cea-82c1-73d190a00bb0",
   "metadata": {},
   "source": [
    "## 백그라운드 + 이미지 출력"
   ]
  },
  {
   "cell_type": "code",
   "execution_count": 14,
   "id": "5f35160a-5904-4202-bd34-b64ea86a3014",
   "metadata": {},
   "outputs": [],
   "source": [
    "background = \"./images/Background.jpg\"  #사용할 배경화면 경로\n",
    "canvas = DrawBoundingBoxes(face_output, frame, conf=0.5)  \n",
    "bg = cv2.imread(background)\n",
    "\n",
    "deployment = AddBackground(canvas, bg)\n",
    "cv2.imshow(\"Deployment\", deployment)\n",
    "\n",
    "cv2.waitKey(0)\n",
    "cv2.destroyAllWindows()"
   ]
  },
  {
   "cell_type": "markdown",
   "id": "2b9e000d-ede0-4c65-ae9b-7b3536a51990",
   "metadata": {},
   "source": [
    "## 백그라운드 + 영상 출력"
   ]
  },
  {
   "cell_type": "code",
   "execution_count": 21,
   "id": "537c2d0d-8442-495d-a764-b1c09b3a80cd",
   "metadata": {},
   "outputs": [],
   "source": [
    "camera=cv2.VideoCapture(0)\n",
    "bg = cv2.imread(background)\n",
    "background = \"./images/Background.jpg\"  #사용할 배경화면 경로\n",
    "\n",
    "while(True):\n",
    "    ret, frame = camera.read()             # Capture frame by frame      \n",
    "    if ret == False:\n",
    "        break\n",
    "    # AI 추론을 위한 데이터 전처리\n",
    "    resized_frame = cv2.resize(src=frame, dsize=(672, 384)) \n",
    "    transposed_frame = resized_frame.transpose(2, 0, 1)\n",
    "    input_frame = np.expand_dims(transposed_frame, 0) \n",
    "    # AI 추론\n",
    "    face_output = face_model([input_frame])[face_output_layer]\n",
    "    # AI 추론 결과 시각화: 박스 그기기\n",
    "    canvas = DrawBoundingBoxes(face_output, frame, conf=0.5)\n",
    "    deployment = AddBackground(canvas, bg)\n",
    "    cv2.imshow('Press Spacebar to Exit', deployment)\n",
    "    # 영상 종료: 스페이스 바\n",
    "    if cv2.waitKey(1) & 0xFF == ord(' '):  # Stop if spacebar is detected\n",
    "        break\n",
    "        \n",
    "camera.release()                           # Cleanup after spacebar is detected.\n",
    "cv2.destroyAllWindows()"
   ]
  }
 ],
 "metadata": {
  "kernelspec": {
   "display_name": "Python 3 (ipykernel)",
   "language": "python",
   "name": "python3"
  },
  "language_info": {
   "codemirror_mode": {
    "name": "ipython",
    "version": 3
   },
   "file_extension": ".py",
   "mimetype": "text/x-python",
   "name": "python",
   "nbconvert_exporter": "python",
   "pygments_lexer": "ipython3",
   "version": "3.11.8"
  }
 },
 "nbformat": 4,
 "nbformat_minor": 5
}
